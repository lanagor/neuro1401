{
 "cells": [
  {
   "cell_type": "code",
   "execution_count": 1,
   "metadata": {},
   "outputs": [],
   "source": [
    "# Cleaner version of the code from http://gorayni.blogspot.com/2014/06/boltzmann-machines.html\n",
    "\n",
    "# from __future__ import division\n",
    "from enum import Enum\n",
    "import numpy as np\n",
    "from scipy.special import expit\n",
    "import matplotlib.pyplot as plt\n",
    "from sklearn.datasets import fetch_openml"
   ]
  },
  {
   "cell_type": "code",
   "execution_count": 2,
   "metadata": {},
   "outputs": [],
   "source": [
    "Clamp = Enum('Clamp', 'VISIBLE_UNITS NONE INPUT_UNITS')\n",
    "\n",
    "class Step:\n",
    "    def __init__(self, temperature, epochs):\n",
    "        self.temperature = temperature\n",
    "        self.epochs = epochs\n",
    "        \n",
    "\n",
    "annealing_schedule = [Step(20.,2), Step(15.,2), Step(12.,2), Step(10.,4)]\n",
    "\n",
    "co_occurrence_cycle = Step(10., 10)\n",
    "\n",
    "patterns = np.array([[1, 0, 0, 0],\n",
    "                     [0, 1, 0, 0],\n",
    "                     [0, 0, 1, 0],\n",
    "                     [0, 0, 0, 1]])"
   ]
  },
  {
   "cell_type": "code",
   "execution_count": 3,
   "metadata": {},
   "outputs": [],
   "source": [
    "mnist = fetch_openml('mnist_784')"
   ]
  },
  {
   "cell_type": "code",
   "execution_count": 4,
   "metadata": {},
   "outputs": [
    {
     "data": {
      "image/png": "[encoded data removed]",
      "text/plain": [
       "<Figure size 432x288 with 1 Axes>"
      ]
     },
     "metadata": {
      "needs_background": "light"
     },
     "output_type": "display_data"
    },
    {
     "name": "stdout",
     "output_type": "stream",
     "text": [
      "[1. 0.]\n"
     ]
    }
   ],
   "source": [
    "data = mnist.get('data') > 64\n",
    "ts = mnist.get('target').astype(int)\n",
    "\n",
    "pts = np.where(ts < 2)\n",
    "data = data[pts]\n",
    "ts = ts[pts]\n",
    "\n",
    "target = np.zeros((len(data), 2))\n",
    "target[np.arange(len(data)), ts] = 1\n",
    "\n",
    "\n",
    "z = np.random.randint(len(data))\n",
    "plt.imshow(data[z].reshape(28, -1))\n",
    "plt.show()\n",
    "print(target[z])"
   ]
  },
  {
   "cell_type": "code",
   "execution_count": 14,
   "metadata": {
    "colab": {},
    "colab_type": "code",
    "id": "odoi7oe2oz8w"
   },
   "outputs": [],
   "source": [
    "class Model:\n",
    "    def __init__(self, inp, out, hidden, schedule, coc, sleep=True):\n",
    "        self.input_size = inp\n",
    "        self.output_size = out\n",
    "        self.hidden_size = hidden\n",
    "        self.N = inp + out + hidden\n",
    "        self.vis_size = inp + out\n",
    "        self.sleep = sleep\n",
    "        self.schedule = schedule\n",
    "        \n",
    "        self.cooccurrence_cycle = coc\n",
    "\n",
    "        self.weights = np.zeros((self.N, self.N))\n",
    "        self.states = np.zeros(self.N, dtype=np.int)\n",
    "\n",
    "        connections = np.triu(np.ones((self.N,) * 2, dtype=np.int), k=1)\n",
    "        connections[:self.input_size, self.input_size:self.vis_size] = 0\n",
    "\n",
    "        valid = np.nonzero(connections)\n",
    "        self.num_connections = np.size(valid[0])\n",
    "        connections[valid] = np.arange(1, self.num_connections + 1)\n",
    "        self.connections = connections + connections.T - 1\n",
    "\n",
    "    def propagate(self, temperature, clamp):\n",
    "        num_units = self.N\n",
    "        if clamp == Clamp.VISIBLE_UNITS:\n",
    "            num_units -= self.vis_size \n",
    "        elif clamp == Clamp.INPUT_UNITS:\n",
    "            num_units -= self.input_size\n",
    "        units = self.N - np.random.randint(num_units, size=num_units) - 1\n",
    "        for unit in units:\n",
    "            p = expit(self.weights[unit, :] @ self.states / temperature)\n",
    "            self.states[unit] = int(np.random.uniform() <= p)\n",
    "\n",
    "    def anneal(self, clamp):\n",
    "        for step in self.schedule:\n",
    "            for epoch in range(step.epochs):\n",
    "                self.propagate(step.temperature, clamp)     \n",
    "\n",
    "    def sum_co_occurrence(self, clamp):\n",
    "        self.anneal(clamp)\n",
    "        sums = np.zeros(self.num_connections)\n",
    "        for epoch in range(self.cooccurrence_cycle.epochs):\n",
    "            self.propagate(self.cooccurrence_cycle.temperature, clamp)\n",
    "            valid = np.nonzero(np.outer(self.states, self.states) & (np.triu(self.connections + 1) > 0))\n",
    "            sums[self.connections[valid]] += 1\n",
    "        return sums / self.cooccurrence_cycle.epochs\n",
    "\n",
    "    def recall(self, pattern):\n",
    "        # Setting pattern to recall and random hidden/output\n",
    "        self.states[:self.input_size] = pattern\n",
    "        self.states[self.input_size:] = np.random.randint(2, size=self.hidden_size + self.output_size)\n",
    "        self.anneal(Clamp.INPUT_UNITS)\n",
    "        return self.states[self.input_size:self.vis_size] \n",
    "\n",
    "    def add_noise(self, pattern):\n",
    "        probabilities = 0.85 * pattern + 0.05\n",
    "        uniform = np.random.random(self.vis_size)    \n",
    "        return (uniform < probabilities).astype(int)\n",
    "\n",
    "    def learn(self, patterns, targets, epochs=30, batch_size=10, evaluate=False):\n",
    "        accuracies = []\n",
    "        for i in range(epochs):\n",
    "            print(f'epoch {i}')\n",
    "            if (i + 1) % 5 == 0:\n",
    "                accuracies.append(self.evaluate(patterns, targets, n=2000))\n",
    "            idx = np.random.randint(len(patterns), size=batch_size)\n",
    "            # Positive phase\n",
    "            pplus = np.zeros(self.num_connections)\n",
    "            for j, (pattern, target) in enumerate(zip(patterns[idx], targets[idx])):\n",
    "                # Setting visible units values (inputs and outputs)\n",
    "                self.states[:self.input_size] = pattern\n",
    "                self.states[self.input_size:self.vis_size] = target\n",
    "                \n",
    "                # Assigning random values to the hidden units\n",
    "                self.states[self.vis_size:] = np.random.randint(2, size=self.hidden_size)\n",
    "                pplus += self.sum_co_occurrence(Clamp.VISIBLE_UNITS)\n",
    "            pplus /= batch_size\n",
    "            \n",
    "            # Negative phase\n",
    "            self.states = np.random.randint(2, size=self.N)\n",
    "            pminus = self.sum_co_occurrence(Clamp.NONE)\n",
    "            if not self.sleep:\n",
    "                pminus = 0.25 * np.ones(pminus.shape)\n",
    "                \n",
    "            to_update = np.nonzero(np.triu(self.connections + 1) > 0)\n",
    "            indices = self.connections[to_update]\n",
    "            self.weights[to_update] += 2 * np.sign(pplus[indices] - pminus[indices])\n",
    "            self.weights[to_update[::-1]] = self.weights[to_update]\n",
    "        return accuracies\n",
    "            \n",
    "    def evaluate(self, patterns, targets, n=1000):\n",
    "        idx = np.random.randint(len(patterns), size=n)\n",
    "        correct = sum((self.recall(p) == t).all() for p, t in zip(patterns[idx], targets[idx]))\n",
    "        return correct / n"
   ]
  },
  {
   "cell_type": "code",
   "execution_count": 15,
   "metadata": {},
   "outputs": [],
   "source": [
    "with_sleep = Model(784, 2, 128, annealing_schedule, co_occurrence_cycle)\n",
    "no_sleep = Model(784, 2, 128, annealing_schedule, co_occurrence_cycle, sleep=False)"
   ]
  },
  {
   "cell_type": "code",
   "execution_count": 16,
   "metadata": {},
   "outputs": [
    {
     "name": "stdout",
     "output_type": "stream",
     "text": [
      "epoch 0\n",
      "epoch 1\n",
      "epoch 2\n",
      "epoch 3\n",
      "epoch 4\n",
      "epoch 5\n",
      "epoch 6\n",
      "epoch 7\n",
      "epoch 8\n",
      "epoch 9\n",
      "epoch 10\n",
      "epoch 11\n",
      "epoch 12\n",
      "epoch 13\n",
      "epoch 14\n",
      "epoch 15\n",
      "epoch 16\n",
      "epoch 17\n",
      "epoch 18\n",
      "epoch 19\n",
      "epoch 20\n",
      "epoch 21\n",
      "epoch 22\n",
      "epoch 23\n",
      "epoch 24\n",
      "epoch 25\n",
      "epoch 26\n",
      "epoch 27\n",
      "epoch 28\n",
      "epoch 29\n",
      "epoch 30\n",
      "epoch 31\n",
      "epoch 32\n",
      "epoch 33\n",
      "epoch 34\n",
      "epoch 35\n",
      "epoch 36\n",
      "epoch 37\n",
      "epoch 38\n",
      "epoch 39\n",
      "epoch 0\n",
      "epoch 1\n",
      "epoch 2\n",
      "epoch 3\n",
      "epoch 4\n",
      "epoch 5\n",
      "epoch 6\n",
      "epoch 7\n",
      "epoch 8\n",
      "epoch 9\n",
      "epoch 10\n",
      "epoch 11\n",
      "epoch 12\n",
      "epoch 13\n",
      "epoch 14\n",
      "epoch 15\n",
      "epoch 16\n",
      "epoch 17\n",
      "epoch 18\n",
      "epoch 19\n",
      "epoch 20\n",
      "epoch 21\n",
      "epoch 22\n",
      "epoch 23\n",
      "epoch 24\n",
      "epoch 25\n",
      "epoch 26\n",
      "epoch 27\n",
      "epoch 28\n",
      "epoch 29\n",
      "epoch 30\n",
      "epoch 31\n",
      "epoch 32\n",
      "epoch 33\n",
      "epoch 34\n",
      "epoch 35\n",
      "epoch 36\n",
      "epoch 37\n",
      "epoch 38\n",
      "epoch 39\n"
     ]
    }
   ],
   "source": [
    "sleep_acc = with_sleep.learn(data, target, epochs=40)\n",
    "nosleep_acc = no_sleep.learn(data, target, epochs=40)"
   ]
  },
  {
   "cell_type": "code",
   "execution_count": 18,
   "metadata": {},
   "outputs": [
    {
     "name": "stdout",
     "output_type": "stream",
     "text": [
      "0.5476\n",
      "0.001\n"
     ]
    }
   ],
   "source": [
    "print(with_sleep.evaluate(data, target, n=5000))\n",
    "print(no_sleep.evaluate(data, target, n=5000))"
   ]
  },
  {
   "cell_type": "code",
   "execution_count": 39,
   "metadata": {},
   "outputs": [
    {
     "data": {
      "image/png": "[encoded data removed]",
      "text/plain": [
       "<Figure size 432x288 with 1 Axes>"
      ]
     },
     "metadata": {
      "needs_background": "light"
     },
     "output_type": "display_data"
    }
   ],
   "source": [
    "plt.plot(5 + 5 * np.arange(len(sleep_acc)), sleep_acc, label='Sleep')\n",
    "plt.plot(5 + 5 * np.arange(len(sleep_acc)), nosleep_acc, label='No Sleep')\n",
    "plt.legend(loc='best')\n",
    "plt.title('Accuracy During Learning with and without Sleep')\n",
    "plt.xlabel('Epoch')\n",
    "plt.ylabel('Accuracy')\n",
    "plt.show()"
   ]
  },
  {
   "cell_type": "code",
   "execution_count": 27,
   "metadata": {},
   "outputs": [
    {
     "data": {
      "text/plain": [
       "<matplotlib.image.AxesImage at 0x7fcaa535a588>"
      ]
     },
     "execution_count": 27,
     "metadata": {},
     "output_type": "execute_result"
    },
    {
     "data": {
      "image/png": "[encoded data removed]",
      "text/plain": [
       "<Figure size 432x288 with 1 Axes>"
      ]
     },
     "metadata": {
      "needs_background": "light"
     },
     "output_type": "display_data"
    }
   ],
   "source": [
    "plt.imshow(data[25].reshape(-1, 28))"
   ]
  },
  {
   "cell_type": "code",
   "execution_count": 24,
   "metadata": {},
   "outputs": [
    {
     "data": {
      "text/plain": [
       "array([1, 1])"
      ]
     },
     "execution_count": 24,
     "metadata": {},
     "output_type": "execute_result"
    }
   ],
   "source": [
    "no_sleep.recall(data[10])"
   ]
  },
  {
   "cell_type": "code",
   "execution_count": 28,
   "metadata": {},
   "outputs": [
    {
     "name": "stdout",
     "output_type": "stream",
     "text": [
      "[array([1, 1]), array([1, 1]), array([1, 1]), array([1, 1]), array([1, 1]), array([1, 1]), array([1, 1]), array([1, 1]), array([1, 1]), array([1, 1]), array([1, 1]), array([1, 1]), array([1, 1]), array([1, 1]), array([1, 1]), array([1, 1]), array([1, 1]), array([1, 1]), array([1, 1]), array([1, 1]), array([1, 1]), array([1, 1]), array([1, 1]), array([1, 1]), array([1, 1]), array([1, 1]), array([1, 1]), array([1, 1]), array([1, 1]), array([1, 1]), array([1, 1]), array([1, 1]), array([1, 1]), array([1, 1]), array([1, 1]), array([1, 1]), array([1, 1]), array([1, 1]), array([1, 1]), array([1, 1]), array([1, 1]), array([1, 1]), array([1, 1]), array([1, 1]), array([1, 1]), array([1, 1]), array([1, 1]), array([1, 1]), array([1, 1]), array([1, 1]), array([1, 1]), array([1, 1]), array([1, 1]), array([1, 1]), array([1, 1]), array([1, 1]), array([1, 1]), array([1, 1]), array([1, 1]), array([1, 1]), array([1, 1]), array([1, 1]), array([1, 1]), array([1, 1]), array([1, 1]), array([1, 1]), array([1, 1]), array([1, 1]), array([1, 1]), array([1, 1]), array([1, 1]), array([1, 1]), array([1, 1]), array([1, 1]), array([1, 1]), array([1, 1]), array([1, 1]), array([1, 1]), array([1, 1]), array([1, 1]), array([1, 1]), array([1, 1]), array([1, 1]), array([1, 1]), array([1, 1]), array([1, 1]), array([1, 1]), array([1, 1]), array([1, 1]), array([1, 1]), array([1, 1]), array([1, 1]), array([1, 1]), array([1, 1]), array([1, 1]), array([1, 1]), array([1, 1]), array([1, 1]), array([1, 1]), array([1, 1])]\n"
     ]
    }
   ],
   "source": [
    "idx = np.random.randint(len(data), size=100)\n",
    "print([no_sleep.recall(data[i]) for i in idx])"
   ]
  },
  {
   "cell_type": "code",
   "execution_count": 53,
   "metadata": {},
   "outputs": [
    {
     "name": "stdout",
     "output_type": "stream",
     "text": [
      "-74.64682617584954\n"
     ]
    }
   ],
   "source": [
    "print(no_sleep.weights.mean())"
   ]
  },
  {
   "cell_type": "code",
   "execution_count": 47,
   "metadata": {},
   "outputs": [
    {
     "name": "stdout",
     "output_type": "stream",
     "text": [
      "835396\n"
     ]
    }
   ],
   "source": [
    "print(914 ** 2)"
   ]
  },
  {
   "cell_type": "code",
   "execution_count": null,
   "metadata": {},
   "outputs": [],
   "source": []
  }
 ],
 "metadata": {
  "colab": {
   "collapsed_sections": [],
   "name": "Neuro_1401_Boltzmann_Machine.ipynb",
   "provenance": [],
   "version": "0.3.2"
  },
  "kernelspec": {
   "display_name": "Python 3",
   "language": "python",
   "name": "python3"
  },
  "language_info": {
   "codemirror_mode": {
    "name": "ipython",
    "version": 3
   },
   "file_extension": ".py",
   "mimetype": "text/x-python",
   "name": "python",
   "nbconvert_exporter": "python",
   "pygments_lexer": "ipython3",
   "version": "3.7.2"
  }
 },
 "nbformat": 4,
 "nbformat_minor": 1
}
